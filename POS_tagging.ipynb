{
  "nbformat": 4,
  "nbformat_minor": 0,
  "metadata": {
    "colab": {
      "name": "POS tagging",
      "provenance": [],
      "collapsed_sections": [],
      "toc_visible": true
    },
    "kernelspec": {
      "name": "python3",
      "display_name": "Python 3"
    }
  },
  "cells": [
    {
      "cell_type": "code",
      "metadata": {
        "id": "YA0d48pGGKdc",
        "colab_type": "code",
        "colab": {}
      },
      "source": [
        "import spacy\n"
      ],
      "execution_count": 0,
      "outputs": []
    },
    {
      "cell_type": "code",
      "metadata": {
        "id": "KykIyPf6GUPI",
        "colab_type": "code",
        "colab": {}
      },
      "source": [
        "nlp= spacy.load('en_core_web_sm')"
      ],
      "execution_count": 0,
      "outputs": []
    },
    {
      "cell_type": "code",
      "metadata": {
        "id": "v-CHfojJGcJC",
        "colab_type": "code",
        "colab": {}
      },
      "source": [
        "doc=nlp(u\"The quick brown fox quickly jumped over the lazy dog's back\")"
      ],
      "execution_count": 0,
      "outputs": []
    },
    {
      "cell_type": "code",
      "metadata": {
        "id": "mqP7ree1GuAE",
        "colab_type": "code",
        "outputId": "f24f2cb3-1d51-4cb0-b055-0b29ce54ca8e",
        "colab": {
          "base_uri": "https://localhost:8080/",
          "height": 34
        }
      },
      "source": [
        "print(doc.text)"
      ],
      "execution_count": 0,
      "outputs": [
        {
          "output_type": "stream",
          "text": [
            "The quick brown fox quickly jumped over the lazy dog's back\n"
          ],
          "name": "stdout"
        }
      ]
    },
    {
      "cell_type": "code",
      "metadata": {
        "id": "R9fGYWJWHnj9",
        "colab_type": "code",
        "outputId": "2c862763-0c0a-4435-c870-55b7a486b3d4",
        "colab": {
          "base_uri": "https://localhost:8080/",
          "height": 34
        }
      },
      "source": [
        "print(doc[5])"
      ],
      "execution_count": 0,
      "outputs": [
        {
          "output_type": "stream",
          "text": [
            "jumped\n"
          ],
          "name": "stdout"
        }
      ]
    },
    {
      "cell_type": "code",
      "metadata": {
        "id": "t1QaChBHHy2R",
        "colab_type": "code",
        "outputId": "0b590105-f733-4388-cdbe-f011d15b88a6",
        "colab": {
          "base_uri": "https://localhost:8080/",
          "height": 34
        }
      },
      "source": [
        "print(doc[5].pos_)"
      ],
      "execution_count": 0,
      "outputs": [
        {
          "output_type": "stream",
          "text": [
            "VERB\n"
          ],
          "name": "stdout"
        }
      ]
    },
    {
      "cell_type": "code",
      "metadata": {
        "id": "jN28Slp0H5uz",
        "colab_type": "code",
        "outputId": "61e99088-a171-4201-a3f5-fc8352349bdc",
        "colab": {
          "base_uri": "https://localhost:8080/",
          "height": 34
        }
      },
      "source": [
        "print(doc[5].tag_)"
      ],
      "execution_count": 0,
      "outputs": [
        {
          "output_type": "stream",
          "text": [
            "VBD\n"
          ],
          "name": "stdout"
        }
      ]
    },
    {
      "cell_type": "code",
      "metadata": {
        "id": "sHfmQD7rIBx0",
        "colab_type": "code",
        "outputId": "b797a60d-333b-41d8-9c68-ba7e5bd88c22",
        "colab": {
          "base_uri": "https://localhost:8080/",
          "height": 225
        }
      },
      "source": [
        "for token in doc:\n",
        "  print(f\"{token.text:{10}} {token.pos_:{10}} {token.tag_:{10}} {spacy.explain(token.tag_)}\")"
      ],
      "execution_count": 0,
      "outputs": [
        {
          "output_type": "stream",
          "text": [
            "The        DET        DT         determiner\n",
            "quick      ADJ        JJ         adjective\n",
            "brown      ADJ        JJ         adjective\n",
            "fox        NOUN       NN         noun, singular or mass\n",
            "quickly    ADV        RB         adverb\n",
            "jumped     VERB       VBD        verb, past tense\n",
            "over       ADP        IN         conjunction, subordinating or preposition\n",
            "the        DET        DT         determiner\n",
            "lazy       ADJ        JJ         adjective\n",
            "dog        NOUN       NN         noun, singular or mass\n",
            "'s         PART       POS        possessive ending\n",
            "back       NOUN       NN         noun, singular or mass\n"
          ],
          "name": "stdout"
        }
      ]
    },
    {
      "cell_type": "code",
      "metadata": {
        "id": "ciU90eMtJI5p",
        "colab_type": "code",
        "colab": {}
      },
      "source": [
        "Pos_Count=doc.count_by(spacy.attrs.POS)"
      ],
      "execution_count": 0,
      "outputs": []
    },
    {
      "cell_type": "code",
      "metadata": {
        "id": "8ZLx9SO4JtY1",
        "colab_type": "code",
        "outputId": "7192b841-6152-42cd-cffd-77a6c802b857",
        "colab": {
          "base_uri": "https://localhost:8080/",
          "height": 34
        }
      },
      "source": [
        "Pos_Count"
      ],
      "execution_count": 0,
      "outputs": [
        {
          "output_type": "execute_result",
          "data": {
            "text/plain": [
              "{84: 3, 85: 1, 86: 1, 90: 2, 92: 3, 94: 1, 100: 1}"
            ]
          },
          "metadata": {
            "tags": []
          },
          "execution_count": 10
        }
      ]
    },
    {
      "cell_type": "code",
      "metadata": {
        "id": "l3yZ_FzHJwyJ",
        "colab_type": "code",
        "outputId": "bc66fd51-62eb-47fe-88f3-57383a9a3e78",
        "colab": {
          "base_uri": "https://localhost:8080/",
          "height": 34
        }
      },
      "source": [
        "doc.vocab[84].text"
      ],
      "execution_count": 0,
      "outputs": [
        {
          "output_type": "execute_result",
          "data": {
            "text/plain": [
              "'ADJ'"
            ]
          },
          "metadata": {
            "tags": []
          },
          "execution_count": 11
        }
      ]
    },
    {
      "cell_type": "code",
      "metadata": {
        "id": "iHKqiRo_LCAd",
        "colab_type": "code",
        "outputId": "bcb827bd-cab8-42ad-c278-c451d1abc5bb",
        "colab": {
          "base_uri": "https://localhost:8080/",
          "height": 34
        }
      },
      "source": [
        "q=(Pos_Count.items())\n",
        "q"
      ],
      "execution_count": 0,
      "outputs": [
        {
          "output_type": "execute_result",
          "data": {
            "text/plain": [
              "dict_items([(90, 2), (84, 3), (92, 3), (86, 1), (100, 1), (85, 1), (94, 1)])"
            ]
          },
          "metadata": {
            "tags": []
          },
          "execution_count": 12
        }
      ]
    },
    {
      "cell_type": "code",
      "metadata": {
        "id": "Z016VNMhJ4mC",
        "colab_type": "code",
        "outputId": "c91667dd-cd85-4c0c-ff3b-35eae6d2129a",
        "colab": {
          "base_uri": "https://localhost:8080/",
          "height": 139
        }
      },
      "source": [
        "for k,v in sorted(Pos_Count.items()):\n",
        "  print(f\"{k} {doc.vocab[k].text:{5}}{v}\")"
      ],
      "execution_count": 0,
      "outputs": [
        {
          "output_type": "stream",
          "text": [
            "84 ADJ  3\n",
            "85 ADP  1\n",
            "86 ADV  1\n",
            "90 DET  2\n",
            "92 NOUN 3\n",
            "94 PART 1\n",
            "100 VERB 1\n"
          ],
          "name": "stdout"
        }
      ]
    },
    {
      "cell_type": "code",
      "metadata": {
        "id": "FPqdXiO2KsTd",
        "colab_type": "code",
        "outputId": "506dc379-62f7-48b5-8dda-a5fdb0e29f97",
        "colab": {
          "base_uri": "https://localhost:8080/",
          "height": 139
        }
      },
      "source": [
        "TagCounts=doc.count_by(spacy.attrs.TAG)\n",
        "TagCounts"
      ],
      "execution_count": 0,
      "outputs": [
        {
          "output_type": "execute_result",
          "data": {
            "text/plain": [
              "{74: 1,\n",
              " 164681854541413346: 1,\n",
              " 1292078113972184607: 1,\n",
              " 10554686591937588953: 3,\n",
              " 15267657372422890137: 2,\n",
              " 15308085513773655218: 3,\n",
              " 17109001835818727656: 1}"
            ]
          },
          "metadata": {
            "tags": []
          },
          "execution_count": 14
        }
      ]
    },
    {
      "cell_type": "code",
      "metadata": {
        "id": "SzA6yej8LrQ9",
        "colab_type": "code",
        "outputId": "91cc98b2-90e6-45e6-e420-b6c91a0c2e55",
        "colab": {
          "base_uri": "https://localhost:8080/",
          "height": 139
        }
      },
      "source": [
        "for k,v in sorted(TagCounts.items()):\n",
        "  print(f\"{k} {doc.vocab[k].text:{5}}{v}\")"
      ],
      "execution_count": 0,
      "outputs": [
        {
          "output_type": "stream",
          "text": [
            "74 POS  1\n",
            "164681854541413346 RB   1\n",
            "1292078113972184607 IN   1\n",
            "10554686591937588953 JJ   3\n",
            "15267657372422890137 DT   2\n",
            "15308085513773655218 NN   3\n",
            "17109001835818727656 VBD  1\n"
          ],
          "name": "stdout"
        }
      ]
    },
    {
      "cell_type": "markdown",
      "metadata": {
        "id": "QkjJAMNhOO36",
        "colab_type": "text"
      },
      "source": [
        "Named Entity Recognition\n"
      ]
    },
    {
      "cell_type": "code",
      "metadata": {
        "id": "-B_k1iLWOURq",
        "colab_type": "code",
        "colab": {}
      },
      "source": [
        "def show_ents(doc):\n",
        "  if doc.ents:\n",
        "    for ent in doc.ents:\n",
        "      print(ent.text+' - '+ent.label_+' - '+str(spacy.explain(ent.label_)))\n",
        "  else:\n",
        "    print('no entry found')  "
      ],
      "execution_count": 0,
      "outputs": []
    },
    {
      "cell_type": "code",
      "metadata": {
        "id": "hXMYSkvHPIcB",
        "colab_type": "code",
        "colab": {}
      },
      "source": [
        "doc1=nlp(u\"Hi how are you?\")"
      ],
      "execution_count": 0,
      "outputs": []
    },
    {
      "cell_type": "code",
      "metadata": {
        "id": "0UpcptP_PTMV",
        "colab_type": "code",
        "outputId": "3f3545e9-15f5-4fa4-ffe0-d25afccb8d42",
        "colab": {
          "base_uri": "https://localhost:8080/",
          "height": 34
        }
      },
      "source": [
        "show_ents(doc1)"
      ],
      "execution_count": 0,
      "outputs": [
        {
          "output_type": "stream",
          "text": [
            "no entry found\n"
          ],
          "name": "stdout"
        }
      ]
    },
    {
      "cell_type": "code",
      "metadata": {
        "id": "yXoSs3O3PYn-",
        "colab_type": "code",
        "colab": {}
      },
      "source": [
        "doc2=nlp(u\"Hi how are you? I am from Kathmandu\")"
      ],
      "execution_count": 0,
      "outputs": []
    },
    {
      "cell_type": "code",
      "metadata": {
        "id": "S0UULVRPP9pS",
        "colab_type": "code",
        "outputId": "d62f089b-b10a-479f-d6e8-751be4fba22d",
        "colab": {
          "base_uri": "https://localhost:8080/",
          "height": 34
        }
      },
      "source": [
        "show_ents(doc2)"
      ],
      "execution_count": 0,
      "outputs": [
        {
          "output_type": "stream",
          "text": [
            "Kathmandu - GPE - Countries, cities, states\n"
          ],
          "name": "stdout"
        }
      ]
    },
    {
      "cell_type": "code",
      "metadata": {
        "id": "4khIeVi6P_GN",
        "colab_type": "code",
        "colab": {}
      },
      "source": [
        " from spacy.tokens import Span"
      ],
      "execution_count": 0,
      "outputs": []
    },
    {
      "cell_type": "code",
      "metadata": {
        "id": "8OPKECHVQnsx",
        "colab_type": "code",
        "colab": {}
      },
      "source": [
        "ORG=doc.vocab.strings[u\"ORG\"]"
      ],
      "execution_count": 0,
      "outputs": []
    },
    {
      "cell_type": "code",
      "metadata": {
        "id": "62z59uPpQw_d",
        "colab_type": "code",
        "outputId": "113052b6-87ad-4b44-810d-f788bb2b10cf",
        "colab": {
          "base_uri": "https://localhost:8080/",
          "height": 34
        }
      },
      "source": [
        "ORG"
      ],
      "execution_count": 0,
      "outputs": [
        {
          "output_type": "execute_result",
          "data": {
            "text/plain": [
              "383"
            ]
          },
          "metadata": {
            "tags": []
          },
          "execution_count": 23
        }
      ]
    },
    {
      "cell_type": "code",
      "metadata": {
        "id": "C8KxBxJMQzCu",
        "colab_type": "code",
        "colab": {}
      },
      "source": [
        ""
      ],
      "execution_count": 0,
      "outputs": []
    },
    {
      "cell_type": "code",
      "metadata": {
        "id": "7xSC_CTGQ6ne",
        "colab_type": "code",
        "colab": {}
      },
      "source": [
        "doc3=nlp(u\"Tesla to build $6 million worth building in Kathmandu\")"
      ],
      "execution_count": 0,
      "outputs": []
    },
    {
      "cell_type": "code",
      "metadata": {
        "id": "IFn75HJoRLzH",
        "colab_type": "code",
        "colab": {}
      },
      "source": [
        ""
      ],
      "execution_count": 0,
      "outputs": []
    },
    {
      "cell_type": "code",
      "metadata": {
        "id": "ssem55xHRSgL",
        "colab_type": "code",
        "colab": {}
      },
      "source": [
        ""
      ],
      "execution_count": 0,
      "outputs": []
    },
    {
      "cell_type": "code",
      "metadata": {
        "id": "-AgbdKBgReLh",
        "colab_type": "code",
        "outputId": "d73ebc9b-2aec-4a4a-a598-ce1d6a72292e",
        "colab": {
          "base_uri": "https://localhost:8080/",
          "height": 69
        }
      },
      "source": [
        "show_ents(doc3)"
      ],
      "execution_count": 0,
      "outputs": [
        {
          "output_type": "stream",
          "text": [
            "Tesla - ORG - Companies, agencies, institutions, etc.\n",
            "$6 million - MONEY - Monetary values, including unit\n",
            "Kathmandu - GPE - Countries, cities, states\n"
          ],
          "name": "stdout"
        }
      ]
    },
    {
      "cell_type": "code",
      "metadata": {
        "id": "ChV-GpODRgRW",
        "colab_type": "code",
        "colab": {}
      },
      "source": [
        ""
      ],
      "execution_count": 0,
      "outputs": []
    }
  ]
}